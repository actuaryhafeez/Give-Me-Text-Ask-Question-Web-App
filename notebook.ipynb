{
 "cells": [
  {
   "cell_type": "markdown",
   "id": "c3acd4d6-cf82-47cb-a70e-552700d86bef",
   "metadata": {},
   "source": [
    "# Install Dependenciesmers"
   ]
  },
  {
   "cell_type": "code",
   "execution_count": null,
   "id": "7242bdf5-7a49-4066-9149-c90165b009d6",
   "metadata": {},
   "outputs": [],
   "source": [
    "# Pytorch install\n",
    "!pip install torch==1.10.2+cu113 torchvision==0.11.3+cu113 torchaudio===0.10.2+cu113 -f https://download.pytorch.org/whl/cu113/torch_stable.html\n",
    "# Install transformers\n",
    "!pip install transformers"
   ]
  },
  {
   "cell_type": "markdown",
   "id": "e955650e-fd24-4ab3-b653-5ecc0fd84bda",
   "metadata": {},
   "source": [
    "# Import libraries"
   ]
  },
  {
   "cell_type": "code",
   "execution_count": 2,
   "id": "e81b65c9-3b09-4ce5-8351-eb0e0f0d4ac0",
   "metadata": {},
   "outputs": [
    {
     "name": "stderr",
     "output_type": "stream",
     "text": [
      "C:\\Users\\hafee\\AppData\\Local\\Programs\\Python\\Python311\\Lib\\site-packages\\tqdm\\auto.py:22: TqdmWarning: IProgress not found. Please update jupyter and ipywidgets. See https://ipywidgets.readthedocs.io/en/stable/user_install.html\n",
      "  from .autonotebook import tqdm as notebook_tqdm\n"
     ]
    }
   ],
   "source": [
    "# Import necessary libraries\n",
    "from transformers import AutoModelForQuestionAnswering, AutoTokenizer, pipeline"
   ]
  },
  {
   "cell_type": "markdown",
   "id": "dc2811ea-5e82-40eb-b0d5-bfc426c2626e",
   "metadata": {},
   "source": [
    "# Load model"
   ]
  },
  {
   "cell_type": "code",
   "execution_count": 6,
   "id": "36128a87-8499-49a9-89a1-45f10d80a06f",
   "metadata": {},
   "outputs": [],
   "source": [
    "# Load the RoBERTa model for question-answering\n",
    "model_name = 'deepset/roberta-base-squad2'\n",
    "tokenizer = AutoTokenizer.from_pretrained(model_name)\n",
    "model = AutoModelForQuestionAnswering.from_pretrained(model_name)"
   ]
  },
  {
   "cell_type": "markdown",
   "id": "10e478f8-98a0-4f01-bbf4-fb8c98818f11",
   "metadata": {},
   "source": [
    "# Create Pipeline"
   ]
  },
  {
   "cell_type": "code",
   "execution_count": 7,
   "id": "9b73dc20-4eca-4e56-9f0b-1bed3cfe85ae",
   "metadata": {},
   "outputs": [],
   "source": [
    "# Create the Q&A pipeline\n",
    "nlp = pipeline('question-answering', model=model, tokenizer=tokenizer)"
   ]
  },
  {
   "cell_type": "markdown",
   "id": "fc168458-02e9-4f2b-82eb-530e4f731acc",
   "metadata": {},
   "source": [
    "# Test Pipeline"
   ]
  },
  {
   "cell_type": "code",
   "execution_count": 13,
   "id": "d99c739d-5b8c-4e6d-b76b-f2b240cb8b4c",
   "metadata": {},
   "outputs": [],
   "source": [
    "# Test the pipeline\n",
    "context = \"Albert Einstein was born in Ulm, in the Kingdom of Württemberg in the German Empire, on 14 March 1879. His parents were Hermann Einstein, a salesman and engineer, and Pauline Koch. In 1880, the family moved to Munich, where Einstein's father and his uncle Jakob founded Elektrotechnische Fabrik J. Einstein & Cie, a company that manufactured electrical equipment based on direct current. Albert Einstein is best known for his equation E=mc^2, which has been dubbed the world's most famous equation. He won the Nobel Prize in Physics in 1921 for his explanation of the photoelectric effect.\"\n",
    "question = \"For what did Albert Einstein win the Nobel Prize in Physics in 1921?\"\n"
   ]
  },
  {
   "cell_type": "markdown",
   "id": "da5ecbf1-0855-4bf1-8bf9-b7668a302d2e",
   "metadata": {},
   "source": [
    "# Display results"
   ]
  },
  {
   "cell_type": "code",
   "execution_count": 14,
   "id": "ba42d042-cda2-40e5-b8fc-d01fb2a56587",
   "metadata": {},
   "outputs": [
    {
     "name": "stdout",
     "output_type": "stream",
     "text": [
      "his explanation of the photoelectric effect\n"
     ]
    }
   ],
   "source": [
    "result = nlp(question=question, context=context)\n",
    "print(result['answer'])"
   ]
  }
 ],
 "metadata": {
  "kernelspec": {
   "display_name": "Python 3 (ipykernel)",
   "language": "python",
   "name": "python3"
  },
  "language_info": {
   "codemirror_mode": {
    "name": "ipython",
    "version": 3
   },
   "file_extension": ".py",
   "mimetype": "text/x-python",
   "name": "python",
   "nbconvert_exporter": "python",
   "pygments_lexer": "ipython3",
   "version": "3.11.0"
  }
 },
 "nbformat": 4,
 "nbformat_minor": 5
}
